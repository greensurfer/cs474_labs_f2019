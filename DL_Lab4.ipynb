{
 "cells": [
  {
   "cell_type": "markdown",
   "metadata": {
    "colab_type": "text",
    "id": "Spj-XI7BaB_R"
   },
   "source": [
    "<a href=\"https://colab.research.google.com/github/wingated/cs474_labs_f2019/blob/master/DL_Lab4.ipynb\" target=\"_parent\"><img src=\"https://colab.research.google.com/assets/colab-badge.svg\" alt=\"Open In Colab\"/></a>"
   ]
  },
  {
   "cell_type": "markdown",
   "metadata": {
    "colab_type": "text",
    "id": "view-in-github"
   },
   "source": [
    "# Lab 4: Cancer Detection\n",
    "\n",
    "## Objective\n",
    "* To build a dense prediction model\n",
    "* To begin reading current papers in DNN research\n",
    "\n",
    "## Deliverable\n",
    "For this lab, you will turn in a notebook that describes your efforts at creating\n",
    "a pytorch radiologist. Your final deliverable is a notebook that has (1) deep network,\n",
    "(2) cost function, (3) method of calculating accuracy,\n",
    "(4) an image that shows the dense prediction produced by your network on the pos_test_000072.png image.\n",
    "This is an image in the test set that your network will not have seen before.\n",
    "This image, and the ground truth labeling, is shown below.\n",
    "(And is contained in the downloadable dataset below).\n",
    "\n",
    "![](http://liftothers.org/dokuwiki/lib/exe/fetch.php?w=200&tok=a8ac31&media=cs501r_f2016:pos_test_000072_output.png)\n",
    "<img src=\"http://liftothers.org/dokuwiki/lib/exe/fetch.php?media=cs501r_f2016:pos_test_000072.png\" width=\"200\">\n",
    "\n",
    "\n",
    "## Grading standards\n",
    "Your notebook will be graded on the following:\n",
    "* 40% Proper design, creation and debugging of a dense prediction network\n",
    "* 40% Proper implementation of a loss function and train/test set accuracy measure\n",
    "* 10% Tidy visualizations of loss of your dense predictor during training\n",
    "* 10% Test image output\n",
    "\n",
    "\n",
    "## Data set\n",
    "The data is given as a set of 1024×1024 PNG images. Each input image (in \n",
    "the ```inputs``` directory) is an RGB image of a section of tissue,\n",
    "and there a file with the same name (in the ```outputs``` directory) \n",
    "that has a dense labeling of whether or not a section of tissue is cancerous\n",
    "(white pixels mean “cancerous”, while black pixels mean “not cancerous”).\n",
    "\n",
    "The data has been pre-split for you into test and training splits.\n",
    "Filenames also reflect whether or not the image has any cancer at all \n",
    "(files starting with ```pos_``` have some cancerous pixels, while files \n",
    "starting with ```neg_``` have no cancer anywhere).\n",
    "All of the data is hand-labeled, so the dataset is not very large.\n",
    "That means that overfitting is a real possibility.\n",
    "\n",
    "## Description\n",
    "For a video including some tips and tricks that can help with this lab: [https://youtu.be/Ms19kgK_D8w](https://youtu.be/Ms19kgK_D8w)\n",
    "For this lab, you will implement a virtual radiologist.\n",
    "You are given images of possibly cancerous tissue samples, \n",
    "and you must build a detector that identifies where in the tissue cancer may reside.\n",
    "\n",
    "---\n",
    "\n",
    "### Part 0\n",
    "Watch and follow video tutorial:\n",
    "\n",
    "https://youtu.be/Ms19kgK_D8w\n",
    "\n",
    "**TODO:**\n",
    "\n",
    "\n",
    "**DONE:**\n",
    "\n",
    "* Watch tutorial\n",
    "\n",
    "### Part 1\n",
    "Implement a dense predictor\n",
    "\n",
    "In previous labs and lectures, we have talked about DNNs that classify an \n",
    "entire image as a single class. Here, however, we are interested in a more nuanced classification: \n",
    "given an input image, we would like to identify each pixel that is possibly cancerous. \n",
    "That means that instead of a single output, your network should output an “image”, \n",
    "where each output pixel of your network represents the probability that a pixel is cancerous.\n",
    "\n",
    "**TODO:**\n",
    "\n",
    "* Create a Network that classifies each pixel as a 1 or 0 for cancerous / not cancerous\n",
    "\n",
    "**DONE:**\n",
    "\n",
    "___\n",
    "\n",
    "### Part 1a\n",
    "Implement your network topology\n",
    "\n",
    "\n",
    "Use the “Deep Convolution U-Net” from this paper: [(U-Net: Convolutional Networks for Biomedical Image Segmentation)](https://arxiv.org/pdf/1505.04597.pdf) \n",
    "\n",
    "![(Figure 1)](https://lh3.googleusercontent.com/qnHiB3B2KRxC3NjiSDtY08_DgDGTDsHcO6PP53oNRuct-p2QXCR-gyLkDveO850F2tTAhIOPC5Ha06NP9xq1JPsVAHlQ5UXA5V-9zkUrJHGhP_MNHFoRGnjBz1vn1p8P2rMWhlAb6HQ=w2400)\n",
    "\n",
    "You should use existing pytorch functions (not your own Conv2D module), such as ```nn.Conv2d```;\n",
    "you will also need the pytorch function ```torch.cat``` and ```nn.ConvTranspose2d```\n",
    "\n",
    "```torch.cat``` allows you to concatenate tensors.\n",
    "```nn.ConvTranspose2d``` is the opposite of ```nn.Conv2d```.\n",
    "It is used to bring an image from low res to higher res.\n",
    "[This blog](https://towardsdatascience.com/up-sampling-with-transposed-convolution-9ae4f2df52d0) should help you understand this function in detail.\n",
    "\n",
    "Note that the simplest network you could implement (with all the desired properties)\n",
    "is just a single convolution layer with two filters and no relu! \n",
    "Why is that? (of course it wouldn't work very well!)\n",
    "\n",
    "**TODO:**\n",
    "\n",
    "* Understand the U-Net architecture\n",
    "* Understand concatenation of inputs from multiple prior layers\n",
    "* Understand ConvTranspose\n",
    "* Answer Question / Reflect on simplest network with the desired properties\n",
    "\n",
    "**DONE:**\n",
    "\n",
    "\n",
    "___\n",
    "The intention of this lab is to learn how to make deep neural nets and implement loss function.\n",
    "Therefore we'll help you with the implementation of Dataset.\n",
    "This code will download the dataset for you so that you are ready to use it and focus on network\n",
    "implementation, losses and accuracies."
   ]
  },
  {
   "cell_type": "code",
   "execution_count": 1,
   "metadata": {
    "colab": {
     "base_uri": "https://localhost:8080/",
     "height": 199
    },
    "colab_type": "code",
    "id": "wQOefmcZVgTl",
    "outputId": "b34e9695-c85e-4e9a-997b-033d91b83716",
    "pycharm": {
     "is_executing": false
    }
   },
   "outputs": [
    {
     "name": "stdout",
     "output_type": "stream",
     "text": [
      "Requirement already satisfied: torch in /usr/local/lib/python3.6/dist-packages (1.1.0)\n",
      "Requirement already satisfied: numpy in /usr/local/lib/python3.6/dist-packages (from torch) (1.16.5)\n",
      "Requirement already satisfied: torchvision in /usr/local/lib/python3.6/dist-packages (0.3.0)\n",
      "Requirement already satisfied: pillow>=4.1.1 in /usr/local/lib/python3.6/dist-packages (from torchvision) (4.3.0)\n",
      "Requirement already satisfied: torch>=1.1.0 in /usr/local/lib/python3.6/dist-packages (from torchvision) (1.1.0)\n",
      "Requirement already satisfied: numpy in /usr/local/lib/python3.6/dist-packages (from torchvision) (1.16.5)\n",
      "Requirement already satisfied: six in /usr/local/lib/python3.6/dist-packages (from torchvision) (1.12.0)\n",
      "Requirement already satisfied: olefile in /usr/local/lib/python3.6/dist-packages (from pillow>=4.1.1->torchvision) (0.46)\n",
      "Requirement already satisfied: tqdm in /usr/local/lib/python3.6/dist-packages (4.28.1)\n"
     ]
    }
   ],
   "source": [
    "!pip3 install torch\n",
    "!pip3 install torchvision\n",
    "!pip3 install tqdm\n",
    "\n",
    "import torch\n",
    "import torch.nn as nn\n",
    "import torch.nn.functional as F\n",
    "import torch.optim as optim\n",
    "from torch.utils.data import Dataset, DataLoader\n",
    "import numpy as np\n",
    "import matplotlib.pyplot as plt\n",
    "from torchvision import transforms, utils, datasets\n",
    "from tqdm import tqdm\n",
    "from torch.nn.parameter import Parameter\n",
    "import pdb\n",
    "import torchvision\n",
    "import os\n",
    "import gzip\n",
    "import tarfile\n",
    "import gc\n",
    "from IPython.core.ultratb import AutoFormattedTB\n",
    "__ITB__ = AutoFormattedTB(mode = 'Verbose',color_scheme='LightBg', tb_offset = 1)\n",
    "\n",
    "assert torch.cuda.is_available(), \"You need to request a GPU from Runtime > Change Runtime\""
   ]
  },
  {
   "cell_type": "code",
   "execution_count": 2,
   "metadata": {
    "colab": {
     "base_uri": "https://localhost:8080/",
     "height": 34
    },
    "colab_type": "code",
    "id": "3c2PkcJOrGzj",
    "outputId": "363ab727-b311-4fd8-90e0-1a523ae6651c"
   },
   "outputs": [
    {
     "name": "stdout",
     "output_type": "stream",
     "text": [
      "0.0\n"
     ]
    }
   ],
   "source": [
    "print(torch.cuda.memory_allocated(0) / 1e9)"
   ]
  },
  {
   "cell_type": "code",
   "execution_count": 0,
   "metadata": {
    "colab": {},
    "colab_type": "code",
    "id": "HUsQSrDaiprC"
   },
   "outputs": [],
   "source": []
  },
  {
   "cell_type": "code",
   "execution_count": 0,
   "metadata": {
    "colab": {},
    "colab_type": "code",
    "id": "Il_53HLSWPTY"
   },
   "outputs": [],
   "source": [
    "class CancerDataset(Dataset):\n",
    "  def __init__(self, root, download=True, size=128, train=True):\n",
    "    if download and not os.path.exists(os.path.join(root, 'cancer_data')):\n",
    "      datasets.utils.download_url('http://liftothers.org/cancer_data.tar.gz', root, 'cancer_data.tar.gz', None)\n",
    "      self.extract_gzip(os.path.join(root, 'cancer_data.tar.gz'))\n",
    "      self.extract_tar(os.path.join(root, 'cancer_data.tar'))\n",
    "    \n",
    "    postfix = 'train' if train else 'test'\n",
    "    root = os.path.join(root, 'cancer_data', 'cancer_data')\n",
    "    self.dataset_folder = torchvision.datasets.ImageFolder(os.path.join(root, 'inputs_' + postfix) ,transform = transforms.Compose([transforms.Resize(size),transforms.ToTensor()]))\n",
    "    self.label_folder = torchvision.datasets.ImageFolder(os.path.join(root, 'outputs_' + postfix) ,transform = transforms.Compose([transforms.Resize(size),transforms.ToTensor()]))\n",
    "\n",
    "  @staticmethod\n",
    "  def extract_gzip(gzip_path, remove_finished=False):\n",
    "    print('Extracting {}'.format(gzip_path))\n",
    "    with open(gzip_path.replace('.gz', ''), 'wb') as out_f, gzip.GzipFile(gzip_path) as zip_f:\n",
    "      out_f.write(zip_f.read())\n",
    "    if remove_finished:\n",
    "      os.unlink(gzip_path)\n",
    "  \n",
    "  @staticmethod\n",
    "  def extract_tar(tar_path):\n",
    "    print('Untarring {}'.format(tar_path))\n",
    "    z = tarfile.TarFile(tar_path)\n",
    "    z.extractall(tar_path.replace('.tar', ''))\n",
    "\n",
    "  def __getitem__(self,index):\n",
    "    img = self.dataset_folder[index]\n",
    "    label = self.label_folder[index]\n",
    "    return img[0],label[0][0]\n",
    "  \n",
    "  def __len__(self):\n",
    "    return len(self.dataset_folder)"
   ]
  },
  {
   "cell_type": "markdown",
   "metadata": {
    "colab_type": "text",
    "id": "QY4owfQwm-Ni"
   },
   "source": [
    "___\n",
    "\n",
    "### Part 1b\n",
    "Implement a cost function\n",
    "\n",
    "You should still use cross-entropy as your cost function, but you may need to think hard about how exactly to set this up – your network should output cancer/not-cancer probabilities for each pixel, which can be viewed as a two-class classification problem.\n",
    "\n",
    "**TODO:**\n",
    "\n",
    "* Adapt CrossEntropyLoss for 2 class pixel classification\n",
    "\n",
    "**DONE:**\n",
    "\n"
   ]
  },
  {
   "cell_type": "code",
   "execution_count": 0,
   "metadata": {
    "colab": {},
    "colab_type": "code",
    "id": "XPgrP88aOtfy"
   },
   "outputs": [],
   "source": [
    "# You'll probably want a function or something to test input / output sizes of the ConvTranspose2d layer\n"
   ]
  },
  {
   "cell_type": "code",
   "execution_count": 0,
   "metadata": {
    "colab": {},
    "colab_type": "code",
    "id": "jq22IyKanxo_"
   },
   "outputs": [],
   "source": [
    "# Since you will be using the output of one network in two places(convolution and maxpooling),\n",
    "# you can't use nn.Sequential.\n",
    "# Instead you will write up the network like normal variable assignment as the example shown below:\n",
    "# You are welcome (and encouraged) to use the built-in batch normalization and dropout layer.\n",
    "\n",
    "# TODO: You need to change this to fit the UNet structure!!!\n",
    "class CancerDetection(nn.Module):\n",
    "  def __init__(self, dataset):\n",
    "    super(CancerDetection, self).__init__()\n",
    "    x, y = dataset[0]\n",
    "    c, h, w = x.size()\n",
    "    output = 2  # One image for positve cancer, One image for negative cancer.\n",
    "    \n",
    "    print(\"C: \" + str(c) + \" H: \" + str(h) + \" W: \" + str(w))\n",
    "    self.conv1 = nn.Conv2d(c, 64 , kernel_size=3, stride=1, padding=1)  # Make the image smaller by 2 as per the u-net chart\n",
    "    self.conv2 = nn.Conv2d(64, 64, kernel_size=3, stride=1, padding=1)\n",
    "    \n",
    "    self.conv3 = nn.Conv2d(64, 128, kernel_size=3, stride=1, padding=1)\n",
    "    self.conv4 = nn.Conv2d(128, 128, kernel_size=3, stride=1, padding=1)\n",
    "    \n",
    "    self.conv5 = nn.Conv2d(128, 256, kernel_size=3, stride=1, padding=1)\n",
    "    self.conv6 = nn.Conv2d(256, 256, kernel_size=3, stride=1, padding=1)\n",
    "    \n",
    "    self.conv7 = nn.Conv2d(256, 512, kernel_size=3, stride=1, padding=1)\n",
    "    self.conv8 = nn.Conv2d(512, 512, kernel_size=3, stride=1, padding=1)\n",
    "    \n",
    "    self.conv9 = nn.Conv2d(512, 1024, kernel_size=3, stride=1, padding=1)\n",
    "    self.conv10 = nn.Conv2d(1024, 1024, kernel_size=3, stride=1, padding=1)\n",
    "    \n",
    "    self.conv10_transpose = nn.ConvTranspose2d(1024, 512, kernel_size=2, stride=2, padding=0)   # TODO ASK ABOUT!\n",
    "    \n",
    "    self.conv11 = nn.Conv2d(1024, 512, kernel_size=3, stride=1, padding=1)\n",
    "    self.conv12 = nn.Conv2d(512, 512, kernel_size=3, stride=1, padding=1)\n",
    "    \n",
    "    self.conv12_transpose = nn.ConvTranspose2d(512, 256, kernel_size=2, stride=2, padding=0)   # Problem here.\n",
    "    \n",
    "    self.conv13 = nn.Conv2d(512, 256, kernel_size=3, stride=1, padding=1)\n",
    "    self.conv14 = nn.Conv2d(256, 256, kernel_size=3, stride=1, padding=1)\n",
    "    \n",
    "    self.conv14_transpose = nn.ConvTranspose2d(256, 128, kernel_size=2, stride=2, padding=0)\n",
    "    \n",
    "    self.conv15 = nn.Conv2d(256, 128, kernel_size=3, stride=1, padding=1)\n",
    "    self.conv16 = nn.Conv2d(128, 128, kernel_size=3, stride=1, padding=1)\n",
    "    \n",
    "    self.conv16_transpose = nn.ConvTranspose2d(128, 64, kernel_size=2, stride=2, padding=0)  # Odd size 255, 257....\n",
    "    \n",
    "    self.conv17 = nn.Conv2d(128, 64, kernel_size=3, stride=1, padding=1)\n",
    "    self.conv18 = nn.Conv2d(64, 64, kernel_size=3, stride=1, padding=1)\n",
    "    \n",
    "    self.final = nn.Conv2d(64, 2, kernel_size=1, stride=1, padding=0)\n",
    "    \n",
    "    self.maxpool = nn.MaxPool2d(2, stride=2, padding = 0)\n",
    " \n",
    "  def forward(self, x):\n",
    "    gc.collect()\n",
    "    \n",
    "    x_layer1 = F.relu(self.conv1(x))                # Decrease image size by 2, C: 3 -> 64.\n",
    "    x_layer2 = F.relu(self.conv2(x_layer1))        # Save x_layer2 as first skip connection.\n",
    "    \n",
    "    x_layer3 = self.maxpool(x_layer2)       # How to make x_layer2  torch.Size([8, 64, 254, 254])\n",
    "    \n",
    "    x_layer4 = F.relu(self.conv3(x_layer3))\n",
    "    x_layer5 = F.relu(self.conv4(x_layer4))         # Save x_layer5 as secound skip connection.\n",
    "    \n",
    "    x_layer6 = self.maxpool(x_layer5) \n",
    "    \n",
    "    x_layer7 = F.relu(self.conv5(x_layer6))\n",
    "    x_layer8 = F.relu(self.conv6(x_layer7))         # Save x_layer8 as third skip connection.\n",
    "    \n",
    "    x_layer9 = self.maxpool(x_layer8)\n",
    "     \n",
    "    x_layer10 = F.relu(self.conv7(x_layer9))\n",
    "    x_layer11 = F.relu(self.conv8(x_layer10))      # Save x_layer11 as fourth skip connection.   X\n",
    "    \n",
    "    x_layer12 = self.maxpool(x_layer11)\n",
    "    \n",
    "    x_layer13 = F.relu(self.conv9(x_layer12))\n",
    "    x_layer14 = F.relu(self.conv10(x_layer13))     # Buttom of u graph.\n",
    "    \n",
    "    x_layer15 = self.conv10_transpose(x_layer14)\n",
    "    x_layer16 = torch.cat((x_layer11, x_layer15), 1)   # First concatation of skip connection. (Fourth skip connection)\n",
    "    \n",
    "    x_layer17 = F.relu(self.conv11(x_layer16))\n",
    "    x_layer18 = F.relu(self.conv12(x_layer17))\n",
    "    \n",
    "    x_layer19 = self.conv12_transpose(x_layer18)\n",
    "    x_layer20 = torch.cat((x_layer8, x_layer19), 1)      # Secound concation of skip connection. (Third Skip connection)\n",
    "                          \n",
    "    x_layer21 = F.relu(self.conv13(x_layer20))     # Doing relu's right????\n",
    "    x_layer22 = F.relu(self.conv14(x_layer21))\n",
    "                                      \n",
    "    x_layer23 = self.conv14_transpose(x_layer22)\n",
    "    x_layer24 = torch.cat((x_layer5, x_layer23), 1)\n",
    "\n",
    "    x_layer25 = F.relu(self.conv15(x_layer24))     # Doing relu's right??????\n",
    "    x_layer26 = F.relu(self.conv16(x_layer25))\n",
    "    \n",
    "    x_layer27 = self.conv16_transpose(x_layer26)\n",
    "    x_layer28 = torch.cat((x_layer2, x_layer27), 1)\n",
    "                          \n",
    "    x_layer29 = F.relu(self.conv17(x_layer28))      # Doing relu's right?????\n",
    "    x_layer30 = F.relu(self.conv18(x_layer29))                      \n",
    "    \n",
    "    return self.final(x_layer30)            # Activations?????          "
   ]
  },
  {
   "cell_type": "code",
   "execution_count": 5,
   "metadata": {
    "colab": {
     "base_uri": "https://localhost:8080/",
     "height": 306
    },
    "colab_type": "code",
    "id": "NAjagHCdGNAh",
    "outputId": "6dcc67cd-1ba8-46f0-b087-bf58a807f07e"
   },
   "outputs": [
    {
     "name": "stdout",
     "output_type": "stream",
     "text": [
      "Wed Sep 25 14:17:07 2019       \n",
      "+-----------------------------------------------------------------------------+\n",
      "| NVIDIA-SMI 430.40       Driver Version: 418.67       CUDA Version: 10.1     |\n",
      "|-------------------------------+----------------------+----------------------+\n",
      "| GPU  Name        Persistence-M| Bus-Id        Disp.A | Volatile Uncorr. ECC |\n",
      "| Fan  Temp  Perf  Pwr:Usage/Cap|         Memory-Usage | GPU-Util  Compute M. |\n",
      "|===============================+======================+======================|\n",
      "|   0  Tesla K80           Off  | 00000000:00:04.0 Off |                    0 |\n",
      "| N/A   36C    P8    29W / 149W |     11MiB / 11441MiB |      0%      Default |\n",
      "+-------------------------------+----------------------+----------------------+\n",
      "                                                                               \n",
      "+-----------------------------------------------------------------------------+\n",
      "| Processes:                                                       GPU Memory |\n",
      "|  GPU       PID   Type   Process name                             Usage      |\n",
      "|=============================================================================|\n",
      "|  No running processes found                                                 |\n",
      "+-----------------------------------------------------------------------------+\n"
     ]
    }
   ],
   "source": [
    "# Create your datasets and neural network as you have before\n",
    "!nvidia-smi"
   ]
  },
  {
   "cell_type": "code",
   "execution_count": 0,
   "metadata": {
    "colab": {},
    "colab_type": "code",
    "id": "a3rDXJPKAt3E"
   },
   "outputs": [],
   "source": [
    "# def compute_accuracy(y_hat, y_truth):\n",
    "#   # 1 x 2 x 512 x 512\n",
    "#   # 1 x 1 x 512 x 512\n",
    "#   y_hat = y_hat[0]\n",
    "#   y_truth = y_truth[0]\n",
    "#   y_hat[0] = y_hat[0] > .5\n",
    "#   y_hat[1] = y_hat[1] >= .5\n",
    "#   intersection = torch.sum(y_hat[0] * y_truth)\n",
    "#   union = torch.sum(y_hat[0] + y_truth >= 1)\n",
    "#   return intersection / union\n",
    "\n",
    "def compute_accuracy(y_hat, y_truth):\n",
    "  return (y_hat.argmax(1) == y_truth.long()).float().mean()  # (torch.softmax(y_hat, 1).argmax(1) == y_truth.long()).float().mean()"
   ]
  },
  {
   "cell_type": "code",
   "execution_count": 23,
   "metadata": {
    "colab": {
     "base_uri": "https://localhost:8080/",
     "height": 85
    },
    "colab_type": "code",
    "id": "RkieTbwlYWPS",
    "outputId": "c13adfed-633e-4a97-8b9d-c03a6d2f1409"
   },
   "outputs": [
    {
     "name": "stdout",
     "output_type": "stream",
     "text": [
      "C: 3 H: 128 W: 128\n"
     ]
    },
    {
     "name": "stderr",
     "output_type": "stream",
     "text": [
      "\r",
      "  0%|          | 0/168 [00:00<?, ?it/s]"
     ]
    },
    {
     "name": "stdout",
     "output_type": "stream",
     "text": [
      "0.972781056\n",
      "Number parameters 31031810\n"
     ]
    },
    {
     "name": "stderr",
     "output_type": "stream",
     "text": [
      "epoch:9,loss0.0781, accuracy:0.973, mem:1.36, size:torch.Size([6, 3, 128, 128]): 100%|██████████| 168/168 [07:13<00:00,  1.18s/it]"
     ]
    }
   ],
   "source": [
    "# This is what was talked about in the video for memory management\n",
    "train_dataset = CancerDataset('tmp/cancerimg')\n",
    "val_dataset = CancerDataset('tmp/cancerimg', train=False)\n",
    "\n",
    "model = CancerDetection(train_dataset)\n",
    "\n",
    "losses_train = []\n",
    "losses_val = []\n",
    "\n",
    "accuracy_train = []\n",
    "accuracy_val = []\n",
    "\n",
    "def scope():\n",
    "#   try:\n",
    "  #your code for calling dataset and dataloader\n",
    "  \n",
    "  model.cuda()\n",
    "  objective = nn.CrossEntropyLoss()\n",
    "  optimizer = optim.Adam(model.parameters(), lr=1e-4)\n",
    "  train_loader = DataLoader(train_dataset, batch_size=8, shuffle=True, num_workers=2, pin_memory=True)\n",
    "  val_loader = DataLoader(val_dataset, batch_size=8, shuffle=True, num_workers=2, pin_memory=True)\n",
    "\n",
    "  gc.collect()\n",
    "  print(torch.cuda.memory_allocated(0) / 1e9)\n",
    "\n",
    "  parameters = sum([np.prod(list(p.size())) for p in model.parameters()])\n",
    "  print('Number parameters', parameters)\n",
    "\n",
    "  index = 0\n",
    "  for epoch in range(10):\n",
    "\n",
    "    loop = tqdm(total=len(train_loader), position=0, leave=False)\n",
    "    for batch, (x, y_truth) in enumerate(train_loader):\n",
    "      tmp_acc = []\n",
    "      tmp_loss = []\n",
    "\n",
    "      x, y_truth = x.cuda(async=True), y_truth.cuda(async=True)\n",
    "\n",
    "      optimizer.zero_grad()\n",
    "      size = x.size()\n",
    "      y_hat = model(x)\n",
    "\n",
    "      loss = objective(y_hat, y_truth.long())\n",
    "      loss.backward()\n",
    "\n",
    "      optimizer.step() \n",
    "\n",
    "      #losses.append(loss.item())\n",
    "      #accuracy = (y_hat.argmax(1) == y_truth.long()).float().mean()\n",
    "      accuracy = compute_accuracy(y_hat, y_truth)\n",
    "      mem = torch.cuda.memory_allocated(0) / 1e9\n",
    "      loop.set_description(\n",
    "          'epoch:{},loss{:.4f}, accuracy:{:.3f}, mem:{:.2f}, size:{}'.format(epoch,\n",
    "                                                                    loss.item(),\n",
    "                                                                    accuracy,\n",
    "                                                                    mem,\n",
    "                                                                    size))\n",
    "      loop.update(1)     \n",
    "      \n",
    "      tmp_loss.append(loss.item())\n",
    "      tmp_acc.append(accuracy.item())\n",
    "\n",
    "      if batch % 10 == 0:\n",
    "\n",
    "        val = np.mean([objective(model(x1.cuda()), y1.cuda().long()).item() for x1, y1 in val_loader])\n",
    "        losses_val.append((index, val))\n",
    "\n",
    "        tmp_val = np.mean([compute_accuracy(model(x1.cuda()), y1.cuda()).item() for x1, y1 in val_loader])\n",
    "        accuracy_val.append((index, tmp_val))\n",
    "        \n",
    "        # Save train data to lists.\n",
    "        losses_train.append((index, np.mean(tmp_loss)))\n",
    "        accuracy_train.append((index, np.mean(tmp_acc)))\n",
    "        \n",
    "      index += 1\n",
    "            \n",
    "           \n",
    "#   except:\n",
    "#     __ITB__()\n",
    "    \n",
    "scope()"
   ]
  },
  {
   "cell_type": "markdown",
   "metadata": {
    "colab_type": "text",
    "id": "CZ062Jv1jIIu"
   },
   "source": [
    "\n",
    "\n",
    "___\n",
    "\n",
    "### Part 2\n",
    "\n",
    "Plot performance over time\n",
    "\n",
    "Please generate a plot that shows loss on the training set as a function of training time. Make sure your axes are labeled!\n",
    "\n",
    "**TODO:**\n",
    "\n",
    "* Plot training loss as function of training time (not Epochs)\n",
    "\n",
    "**DONE:**\n"
   ]
  },
  {
   "cell_type": "code",
   "execution_count": 24,
   "metadata": {
    "colab": {
     "base_uri": "https://localhost:8080/",
     "height": 295
    },
    "colab_type": "code",
    "id": "mTg1jyIsYVZN",
    "outputId": "6b7862cd-47aa-4ea2-d2ba-5a9ac3851c88"
   },
   "outputs": [
    {
     "data": {
      "image/png": "[encoded data removed]",
      "text/plain": [
       "<Figure size 432x288 with 1 Axes>"
      ]
     },
     "metadata": {
      "tags": []
     },
     "output_type": "display_data"
    }
   ],
   "source": [
    "import matplotlib.pyplot as plt\n",
    "\n",
    "# Your plotting code here\n",
    "a, b = zip(*losses_train)\n",
    "c, d = zip(*accuracy_train)\n",
    "e, f = zip(*losses_val)\n",
    "g, h = zip(*accuracy_val)\n",
    "  \n",
    "# Loss!\n",
    "plt.plot(a, b, label='Train')\n",
    "plt.plot(e, f, label='Validation')\n",
    "plt.ylabel(\"Losses\")\n",
    "plt.xlabel(\"Time\")\n",
    "plt.title(\"Loss\")\n",
    "plt.legend()\n",
    "plt.show()"
   ]
  },
  {
   "cell_type": "code",
   "execution_count": 25,
   "metadata": {
    "colab": {
     "base_uri": "https://localhost:8080/",
     "height": 295
    },
    "colab_type": "code",
    "id": "BRBq-RAUaC0I",
    "outputId": "cd318c0c-a1e6-445b-a90c-ce04bf85cb32"
   },
   "outputs": [
    {
     "data": {
      "image/png": "[encoded data removed]",
      "text/plain": [
       "<Figure size 432x288 with 1 Axes>"
      ]
     },
     "metadata": {
      "tags": []
     },
     "output_type": "display_data"
    }
   ],
   "source": [
    "# Loss!\n",
    "plt.plot(c, d, label='Train')\n",
    "plt.plot(g, h, label='Validation')\n",
    "plt.ylabel(\"Accuracy\")\n",
    "plt.xlabel(\"Time\")\n",
    "plt.title(\"Accuracy\")\n",
    "plt.legend()\n",
    "plt.show()"
   ]
  },
  {
   "cell_type": "markdown",
   "metadata": {
    "colab_type": "text",
    "id": "S4s92S2_jQOG"
   },
   "source": [
    "___\n",
    "\n",
    "### Part 3\n",
    "\n",
    "Generate a prediction on the pos_test_000072.png image\n",
    "\n",
    "Calculate the output of your trained network on the pos_test_000072.png image,\n",
    "then make a hard decision (cancerous/not-cancerous) for each pixel.\n",
    "The resulting image should be black-and-white, where white pixels represent things\n",
    "you think are probably cancerous.\n",
    "\n",
    "**TODO:**\n",
    "\n",
    "**DONE:**\n",
    "\n",
    "**NOTE:**\n",
    "\n",
    "Guessing that the pixel is not cancerous every single time will give you an accuracy of ~ 85%.\n",
    "Your trained network should be able to do better than that (but you will not be graded on accuracy).\n",
    "This is the result I got after 1 hour or training.\n",
    "\n",
    "![](http://liftothers.org/dokuwiki/lib/exe/fetch.php?w=400&tok=d23e0b&media=cs501r_f2016:training_accuracy.png)\n",
    "![](http://liftothers.org/dokuwiki/lib/exe/fetch.php?w=400&tok=bb8e3c&media=cs501r_f2016:training_loss.png)"
   ]
  },
  {
   "cell_type": "code",
   "execution_count": 26,
   "metadata": {
    "colab": {
     "base_uri": "https://localhost:8080/",
     "height": 286
    },
    "colab_type": "code",
    "id": "XXfG3wClh8an",
    "outputId": "b50e5581-eb69-46cf-84c0-c01f6beb16d0",
    "pycharm": {
     "is_executing": false
    }
   },
   "outputs": [
    {
     "data": {
      "text/plain": [
       "<matplotlib.image.AxesImage at 0x7f20704ae7b8>"
      ]
     },
     "execution_count": 26,
     "metadata": {
      "tags": []
     },
     "output_type": "execute_result"
    },
    {
     "data": {
      "image/png": "[encoded data removed]",
      "text/plain": [
       "<Figure size 432x288 with 1 Axes>"
      ]
     },
     "metadata": {
      "tags": []
     },
     "output_type": "display_data"
    }
   ],
   "source": [
    "x_hat = val_dataset[172][0].unsqueeze(0)\n",
    "x_hat.size()\n",
    "y_hat = model(x_hat.cuda())\n",
    "\n",
    "arr = y_hat.squeeze(0).cpu()\n",
    "plt.imshow(np.where(arr[0] > .5, 0, 1))\n"
   ]
  },
  {
   "cell_type": "markdown",
   "metadata": {
    "colab_type": "text",
    "id": "s7czxv9kCvVF"
   },
   "source": [
    "![](http://liftothers.org/dokuwiki/lib/exe/fetch.php?w=200&tok=a8ac31&media=cs501r_f2016:pos_test_000072_output.png)\n",
    "<img src=\"http://liftothers.org/dokuwiki/lib/exe/fetch.php?media=cs501r_f2016:pos_test_000072.png\" width=\"200\">"
   ]
  },
  {
   "cell_type": "code",
   "execution_count": 22,
   "metadata": {
    "colab": {
     "base_uri": "https://localhost:8080/",
     "height": 286
    },
    "colab_type": "code",
    "id": "VJtIT0mOSL4J",
    "outputId": "b053145c-a954-4d80-9fb8-d2c2e1a6dd72"
   },
   "outputs": [
    {
     "data": {
      "text/plain": [
       "<matplotlib.image.AxesImage at 0x7f2070569128>"
      ]
     },
     "execution_count": 22,
     "metadata": {
      "tags": []
     },
     "output_type": "execute_result"
    },
    {
     "data": {
      "image/png": "[encoded data removed]",
      "text/plain": [
       "<Figure size 432x288 with 1 Axes>"
      ]
     },
     "metadata": {
      "tags": []
     },
     "output_type": "display_data"
    }
   ],
   "source": [
    "plt.imshow(val_dataset[172][1])"
   ]
  }
 ],
 "metadata": {
  "accelerator": "GPU",
  "colab": {
   "collapsed_sections": [],
   "name": "Copy_of_DL_Lab4-2.ipynb",
   "provenance": []
  },
  "kernelspec": {
   "display_name": "Python 3",
   "language": "python",
   "name": "python3"
  },
  "language_info": {
   "codemirror_mode": {
    "name": "ipython",
    "version": 3
   },
   "file_extension": ".py",
   "mimetype": "text/x-python",
   "name": "python",
   "nbconvert_exporter": "python",
   "pygments_lexer": "ipython3",
   "version": "3.6.2"
  },
  "pycharm": {
   "stem_cell": {
    "cell_type": "raw",
    "metadata": {
     "collapsed": false
    },
    "source": []
   }
  }
 },
 "nbformat": 4,
 "nbformat_minor": 1
}
